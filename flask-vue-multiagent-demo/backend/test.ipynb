{
 "cells": [
  {
   "cell_type": "code",
   "execution_count": 1,
   "id": "37051bf8",
   "metadata": {},
   "outputs": [],
   "source": [
    "import os "
   ]
  },
  {
   "cell_type": "code",
   "execution_count": 2,
   "id": "adf74ae5",
   "metadata": {},
   "outputs": [
    {
     "ename": "ImportError",
     "evalue": "cannot import name 'ORGANIZE_INFORMATION_PROMPT' from 'jpbchat.template.prompt' (C:\\Users\\yusuke.otsuki\\OneDrive - Accenture\\デスクトップ\\source_code\\JPB_CSC\\jpbchat.tar\\JPBChat\\src\\jpbchat\\template\\prompt.py)",
     "output_type": "error",
     "traceback": [
      "\u001b[31m---------------------------------------------------------------------------\u001b[39m",
      "\u001b[31mImportError\u001b[39m                               Traceback (most recent call last)",
      "\u001b[36mCell\u001b[39m\u001b[36m \u001b[39m\u001b[32mIn[2]\u001b[39m\u001b[32m, line 2\u001b[39m\n\u001b[32m      1\u001b[39m \u001b[38;5;28;01mfrom\u001b[39;00m\u001b[38;5;250m \u001b[39m\u001b[34;01mapp\u001b[39;00m\u001b[34;01m.\u001b[39;00m\u001b[34;01mentities\u001b[39;00m\u001b[34;01m.\u001b[39;00m\u001b[34;01mconfig\u001b[39;00m\u001b[38;5;250m \u001b[39m\u001b[38;5;28;01mimport\u001b[39;00m read_config\n\u001b[32m----> \u001b[39m\u001b[32m2\u001b[39m \u001b[38;5;28;01mfrom\u001b[39;00m\u001b[38;5;250m \u001b[39m\u001b[34;01mapp\u001b[39;00m\u001b[34;01m.\u001b[39;00m\u001b[34;01mazure_openai_handler\u001b[39;00m\u001b[38;5;250m \u001b[39m\u001b[38;5;28;01mimport\u001b[39;00m AzureOpenAIHandler\n\u001b[32m      3\u001b[39m \u001b[38;5;28;01mfrom\u001b[39;00m\u001b[38;5;250m \u001b[39m\u001b[34;01mlangchain\u001b[39;00m\u001b[34;01m.\u001b[39;00m\u001b[34;01mstorage\u001b[39;00m\u001b[38;5;250m \u001b[39m\u001b[38;5;28;01mimport\u001b[39;00m LocalFileStore\n\u001b[32m      6\u001b[39m config = read_config(\u001b[33m\"\u001b[39m\u001b[33m./config/config.yaml\u001b[39m\u001b[33m\"\u001b[39m)\n",
      "\u001b[36mFile \u001b[39m\u001b[32mc:\\Users\\yusuke.otsuki\\OneDrive - Accenture\\デスクトップ\\source_code\\higo\\flask-vue-multiagent-demo\\backend\\app\\azure_openai_handler.py:5\u001b[39m\n\u001b[32m      2\u001b[39m \u001b[38;5;28;01mimport\u001b[39;00m\u001b[38;5;250m \u001b[39m\u001b[34;01mos\u001b[39;00m\n\u001b[32m      4\u001b[39m \u001b[38;5;28;01mfrom\u001b[39;00m\u001b[38;5;250m \u001b[39m\u001b[34;01mjpbchat\u001b[39;00m\u001b[34;01m.\u001b[39;00m\u001b[34;01mentities\u001b[39;00m\u001b[34;01m.\u001b[39;00m\u001b[34;01mconfig\u001b[39;00m\u001b[38;5;250m \u001b[39m\u001b[38;5;28;01mimport\u001b[39;00m AzureOpenAIConfig\n\u001b[32m----> \u001b[39m\u001b[32m5\u001b[39m \u001b[38;5;28;01mfrom\u001b[39;00m\u001b[38;5;250m \u001b[39m\u001b[34;01mjpbchat\u001b[39;00m\u001b[34;01m.\u001b[39;00m\u001b[34;01mtemplate\u001b[39;00m\u001b[34;01m.\u001b[39;00m\u001b[34;01mprompt\u001b[39;00m\u001b[38;5;250m \u001b[39m\u001b[38;5;28;01mimport\u001b[39;00m (\n\u001b[32m      6\u001b[39m     PREPROCESS_PROMPT,\n\u001b[32m      7\u001b[39m     ORGANIZE_INFORMATION_PROMPT,\n\u001b[32m      8\u001b[39m     PREPROCESS_SYSTEM,\n\u001b[32m      9\u001b[39m     REVIEW_PROMPT,\n\u001b[32m     10\u001b[39m     REVIEW_SYSTEM,\n\u001b[32m     11\u001b[39m     SECECT_FAQ_PROMPT,\n\u001b[32m     12\u001b[39m     SECECT_FAQ_SYSTEM,\n\u001b[32m     13\u001b[39m     SELECT_CANDIDATES_PROMPT,\n\u001b[32m     14\u001b[39m     SELECT_CANDIDATES_SYSTEM,\n\u001b[32m     15\u001b[39m     SELECT_SUB_ANSWER_PROMPT,\n\u001b[32m     16\u001b[39m     SELECT_SUB_ANSWER_SYSTEM,\n\u001b[32m     17\u001b[39m )\n\u001b[32m     18\u001b[39m \u001b[38;5;28;01mfrom\u001b[39;00m\u001b[38;5;250m \u001b[39m\u001b[34;01mlangchain\u001b[39;00m\u001b[34;01m.\u001b[39;00m\u001b[34;01membeddings\u001b[39;00m\u001b[34;01m.\u001b[39;00m\u001b[34;01mcache\u001b[39;00m\u001b[38;5;250m \u001b[39m\u001b[38;5;28;01mimport\u001b[39;00m CacheBackedEmbeddings\n\u001b[32m     19\u001b[39m \u001b[38;5;28;01mfrom\u001b[39;00m\u001b[38;5;250m \u001b[39m\u001b[34;01mlangchain_core\u001b[39;00m\u001b[34;01m.\u001b[39;00m\u001b[34;01moutput_parsers\u001b[39;00m\u001b[38;5;250m \u001b[39m\u001b[38;5;28;01mimport\u001b[39;00m JsonOutputParser, StrOutputParser\n",
      "\u001b[31mImportError\u001b[39m: cannot import name 'ORGANIZE_INFORMATION_PROMPT' from 'jpbchat.template.prompt' (C:\\Users\\yusuke.otsuki\\OneDrive - Accenture\\デスクトップ\\source_code\\JPB_CSC\\jpbchat.tar\\JPBChat\\src\\jpbchat\\template\\prompt.py)"
     ]
    }
   ],
   "source": [
    "from app.entities.config import read_config\n",
    "from app.azure_openai_handler import AzureOpenAIHandler\n",
    "from langchain.storage import LocalFileStore\n",
    "\n",
    "\n",
    "config = read_config(\"./config/config.yaml\")\n",
    "\n",
    "store = LocalFileStore(config.indexer.cache_dir)\n",
    "aoai_handler = AzureOpenAIHandler(config=config.azure_open_ai, store=store)"
   ]
  },
  {
   "cell_type": "code",
   "execution_count": 5,
   "id": "bd86d0e7",
   "metadata": {},
   "outputs": [
    {
     "data": {
      "text/plain": [
       "<coroutine object AzureOpenAIHandler.preprocess at 0x00000183A52ACD40>"
      ]
     },
     "execution_count": 5,
     "metadata": {},
     "output_type": "execute_result"
    }
   ],
   "source": [
    "aoai_handler.preprocess(\"今日はとってもいい天気だ\")"
   ]
  },
  {
   "cell_type": "code",
   "execution_count": null,
   "id": "a01f0a54",
   "metadata": {},
   "outputs": [],
   "source": [
    "llm = aoai_handler.build_llm()\n"
   ]
  },
  {
   "cell_type": "code",
   "execution_count": 13,
   "id": "970ede01",
   "metadata": {},
   "outputs": [
    {
     "data": {
      "text/plain": [
       "'はい、わかりました！'"
      ]
     },
     "execution_count": 13,
     "metadata": {},
     "output_type": "execute_result"
    }
   ],
   "source": [
    "from langchain_core.prompts import ChatPromptTemplate\n",
    "from langchain_openai import AzureChatOpenAI, AzureOpenAIEmbeddings\n",
    "from langchain.embeddings.cache import CacheBackedEmbeddings\n",
    "from langchain_core.output_parsers import JsonOutputParser, StrOutputParser\n",
    "\n",
    "prompt_text = \"私の言葉に対して、Yesといいなさいね\"\n",
    "\n",
    "prompt = ChatPromptTemplate.from_messages(\n",
    "            [\n",
    "                (\"human\", prompt_text.strip()),\n",
    "            ]\n",
    "        )\n",
    "chain = prompt | llm | StrOutputParser()\n",
    "response = chain.invoke({\"query\": prompt_text})\n",
    "response"
   ]
  },
  {
   "cell_type": "code",
   "execution_count": 1,
   "id": "1b39069a",
   "metadata": {},
   "outputs": [],
   "source": [
    "from app.agents.agent_a import AgentA"
   ]
  },
  {
   "cell_type": "code",
   "execution_count": null,
   "id": "75f5cc65",
   "metadata": {},
   "outputs": [],
   "source": [
    "from app.entities.config import read_config\n",
    "config = read_config(\"app/config/config.yaml\")\n",
    "from langchain.storage import LocalFileStore\n",
    "store = LocalFileStore(config.indexer.cache_dir)\n",
    "# aoai_handler = AzureOpenAIHandler(config=config.azure_open_ai, store=store\n",
    "\n",
    "agent = AgentA(config=config.azure_open_ai, store=store)"
   ]
  },
  {
   "cell_type": "code",
   "execution_count": 3,
   "id": "70c106e5",
   "metadata": {},
   "outputs": [
    {
     "data": {
      "text/plain": [
       "'不動産に関する融資相談を受ける際に必要な情報は以下の通りです：\\n\\n1. **物件情報**\\n   - 物件の種類（住宅、商業用、不動産投資用など）\\n   - 物件の所在地（住所）\\n   - 物件の面積（土地面積、建物面積）\\n   - 物件の築年数や状態\\n   - 物件の評価額または購入価格\\n\\n2. **借入希望額**\\n   - 希望する融資額\\n   - 自己資金の額\\n\\n3. **収入情報**\\n   - 申込者の年収\\n   - 収入の種類（給与、事業収入、不動産収入など）\\n   - 他の借入状況（他のローンの有無、月々の返済額）\\n\\n4. **返済計画**\\n   - 希望する返済期間\\n   - 返済方法（元利均等返済、元金均等返済など）\\n\\n5. **信用情報**\\n   - 過去の借入履歴（延滞や債務整理の有無）\\n   - 信用スコア（必要に応じて）\\n\\n6. **その他の情報**\\n   - 共同名義人の有無（配偶者や親族など）\\n   - 物件の用途（居住用、賃貸用など）\\n   - 物件の管理状況（賃貸中の場合は賃貸契約の内容）\\n\\nこれらの情報を用意することで、融資の審査がスムーズに進むことが期待できます。'"
      ]
     },
     "execution_count": 3,
     "metadata": {},
     "output_type": "execute_result"
    }
   ],
   "source": [
    "agent.run(\"最近ふどうさんの相談をウケましたが、何を用意したらよいですか\")"
   ]
  },
  {
   "cell_type": "code",
   "execution_count": null,
   "id": "1855afca",
   "metadata": {},
   "outputs": [],
   "source": []
  }
 ],
 "metadata": {
  "kernelspec": {
   "display_name": "jpbchat-7kwuGxEm-py3.11",
   "language": "python",
   "name": "python3"
  },
  "language_info": {
   "codemirror_mode": {
    "name": "ipython",
    "version": 3
   },
   "file_extension": ".py",
   "mimetype": "text/x-python",
   "name": "python",
   "nbconvert_exporter": "python",
   "pygments_lexer": "ipython3",
   "version": "3.11.9"
  }
 },
 "nbformat": 4,
 "nbformat_minor": 5
}
